{
  "cells": [
    {
      "cell_type": "markdown",
      "metadata": {
        "id": "LpchLTg4BmkU"
      },
      "source": [
        "==========================================================================\n",
        "# 📁 **ATIVIDADE FIAP - FarmTech na era da cloud computing**\n",
        "==========================================================================\n",
        "\n",
        "**Autor.....:** Diego Nunes Veiga\n",
        "\n",
        "**RM........:** 560658\n",
        "\n",
        "**Turma...:** Graduação - 1TIAOR\n",
        "\n",
        "**Data......:** 10/03/2025\n",
        "\n",
        "==========================================================================\n"
      ]
    },
    {
      "cell_type": "markdown",
      "metadata": {
        "id": "oCVg4_w5HOZ4"
      },
      "source": [
        "## **↪ Introdução dos dados**"
      ]
    },
    {
      "cell_type": "code",
      "execution_count": 1,
      "metadata": {
        "id": "N86uKFDyHbpT"
      },
      "outputs": [],
      "source": [
        "# Importação das bibliotecas\n",
        "import warnings\n",
        "warnings.filterwarnings('ignore')\n",
        "import pandas as pd\n",
        "import seaborn as sns\n",
        "import matplotlib.pyplot as plt\n",
        "from sklearn.preprocessing import LabelEncoder, OneHotEncoder, MinMaxScaler\n",
        "from sklearn.model_selection import train_test_split\n",
        "from sklearn.neighbors import KNeighborsRegressor\n",
        "from sklearn.linear_model import LinearRegression\n",
        "from sklearn.svm import SVR\n",
        "from sklearn.tree import DecisionTreeRegressor\n",
        "from sklearn.ensemble import RandomForestRegressor\n",
        "from sklearn.metrics import r2_score, mean_absolute_error"
      ]
    },
    {
      "cell_type": "code",
      "execution_count": 2,
      "metadata": {
        "colab": {
          "base_uri": "https://localhost:8080/",
          "height": 206
        },
        "id": "Kv3XmoMOHbpU",
        "outputId": "940c3920-dda9-4f9d-98c1-92c2ec650ef8"
      },
      "outputs": [
        {
          "output_type": "execute_result",
          "data": {
            "text/plain": [
              "        Cultura  Precipitação (mm/dia)  Umidade Específica (g/kg)  \\\n",
              "0  Cocoa, beans                2248.92                      17.72   \n",
              "1  Cocoa, beans                1938.42                      17.54   \n",
              "2  Cocoa, beans                2301.54                      17.81   \n",
              "3  Cocoa, beans                2592.35                      17.61   \n",
              "4  Cocoa, beans                2344.72                      17.61   \n",
              "\n",
              "   Umidade Relativa (%)  Temperatura (°C)  Rendimento (kg/ha)  \n",
              "0                 83.40             26.01               11560  \n",
              "1                 82.11             26.11               11253  \n",
              "2                 82.79             26.24                9456  \n",
              "3                 85.07             25.56                9321  \n",
              "4                 84.12             25.76                8800  "
            ],
            "text/html": [
              "\n",
              "  <div id=\"df-aee4e937-54bb-4f7c-9c48-44e9fb7ea3cd\" class=\"colab-df-container\">\n",
              "    <div>\n",
              "<style scoped>\n",
              "    .dataframe tbody tr th:only-of-type {\n",
              "        vertical-align: middle;\n",
              "    }\n",
              "\n",
              "    .dataframe tbody tr th {\n",
              "        vertical-align: top;\n",
              "    }\n",
              "\n",
              "    .dataframe thead th {\n",
              "        text-align: right;\n",
              "    }\n",
              "</style>\n",
              "<table border=\"1\" class=\"dataframe\">\n",
              "  <thead>\n",
              "    <tr style=\"text-align: right;\">\n",
              "      <th></th>\n",
              "      <th>Cultura</th>\n",
              "      <th>Precipitação (mm/dia)</th>\n",
              "      <th>Umidade Específica (g/kg)</th>\n",
              "      <th>Umidade Relativa (%)</th>\n",
              "      <th>Temperatura (°C)</th>\n",
              "      <th>Rendimento (kg/ha)</th>\n",
              "    </tr>\n",
              "  </thead>\n",
              "  <tbody>\n",
              "    <tr>\n",
              "      <th>0</th>\n",
              "      <td>Cocoa, beans</td>\n",
              "      <td>2248.92</td>\n",
              "      <td>17.72</td>\n",
              "      <td>83.40</td>\n",
              "      <td>26.01</td>\n",
              "      <td>11560</td>\n",
              "    </tr>\n",
              "    <tr>\n",
              "      <th>1</th>\n",
              "      <td>Cocoa, beans</td>\n",
              "      <td>1938.42</td>\n",
              "      <td>17.54</td>\n",
              "      <td>82.11</td>\n",
              "      <td>26.11</td>\n",
              "      <td>11253</td>\n",
              "    </tr>\n",
              "    <tr>\n",
              "      <th>2</th>\n",
              "      <td>Cocoa, beans</td>\n",
              "      <td>2301.54</td>\n",
              "      <td>17.81</td>\n",
              "      <td>82.79</td>\n",
              "      <td>26.24</td>\n",
              "      <td>9456</td>\n",
              "    </tr>\n",
              "    <tr>\n",
              "      <th>3</th>\n",
              "      <td>Cocoa, beans</td>\n",
              "      <td>2592.35</td>\n",
              "      <td>17.61</td>\n",
              "      <td>85.07</td>\n",
              "      <td>25.56</td>\n",
              "      <td>9321</td>\n",
              "    </tr>\n",
              "    <tr>\n",
              "      <th>4</th>\n",
              "      <td>Cocoa, beans</td>\n",
              "      <td>2344.72</td>\n",
              "      <td>17.61</td>\n",
              "      <td>84.12</td>\n",
              "      <td>25.76</td>\n",
              "      <td>8800</td>\n",
              "    </tr>\n",
              "  </tbody>\n",
              "</table>\n",
              "</div>\n",
              "    <div class=\"colab-df-buttons\">\n",
              "\n",
              "  <div class=\"colab-df-container\">\n",
              "    <button class=\"colab-df-convert\" onclick=\"convertToInteractive('df-aee4e937-54bb-4f7c-9c48-44e9fb7ea3cd')\"\n",
              "            title=\"Convert this dataframe to an interactive table.\"\n",
              "            style=\"display:none;\">\n",
              "\n",
              "  <svg xmlns=\"http://www.w3.org/2000/svg\" height=\"24px\" viewBox=\"0 -960 960 960\">\n",
              "    <path d=\"M120-120v-720h720v720H120Zm60-500h600v-160H180v160Zm220 220h160v-160H400v160Zm0 220h160v-160H400v160ZM180-400h160v-160H180v160Zm440 0h160v-160H620v160ZM180-180h160v-160H180v160Zm440 0h160v-160H620v160Z\"/>\n",
              "  </svg>\n",
              "    </button>\n",
              "\n",
              "  <style>\n",
              "    .colab-df-container {\n",
              "      display:flex;\n",
              "      gap: 12px;\n",
              "    }\n",
              "\n",
              "    .colab-df-convert {\n",
              "      background-color: #E8F0FE;\n",
              "      border: none;\n",
              "      border-radius: 50%;\n",
              "      cursor: pointer;\n",
              "      display: none;\n",
              "      fill: #1967D2;\n",
              "      height: 32px;\n",
              "      padding: 0 0 0 0;\n",
              "      width: 32px;\n",
              "    }\n",
              "\n",
              "    .colab-df-convert:hover {\n",
              "      background-color: #E2EBFA;\n",
              "      box-shadow: 0px 1px 2px rgba(60, 64, 67, 0.3), 0px 1px 3px 1px rgba(60, 64, 67, 0.15);\n",
              "      fill: #174EA6;\n",
              "    }\n",
              "\n",
              "    .colab-df-buttons div {\n",
              "      margin-bottom: 4px;\n",
              "    }\n",
              "\n",
              "    [theme=dark] .colab-df-convert {\n",
              "      background-color: #3B4455;\n",
              "      fill: #D2E3FC;\n",
              "    }\n",
              "\n",
              "    [theme=dark] .colab-df-convert:hover {\n",
              "      background-color: #434B5C;\n",
              "      box-shadow: 0px 1px 3px 1px rgba(0, 0, 0, 0.15);\n",
              "      filter: drop-shadow(0px 1px 2px rgba(0, 0, 0, 0.3));\n",
              "      fill: #FFFFFF;\n",
              "    }\n",
              "  </style>\n",
              "\n",
              "    <script>\n",
              "      const buttonEl =\n",
              "        document.querySelector('#df-aee4e937-54bb-4f7c-9c48-44e9fb7ea3cd button.colab-df-convert');\n",
              "      buttonEl.style.display =\n",
              "        google.colab.kernel.accessAllowed ? 'block' : 'none';\n",
              "\n",
              "      async function convertToInteractive(key) {\n",
              "        const element = document.querySelector('#df-aee4e937-54bb-4f7c-9c48-44e9fb7ea3cd');\n",
              "        const dataTable =\n",
              "          await google.colab.kernel.invokeFunction('convertToInteractive',\n",
              "                                                    [key], {});\n",
              "        if (!dataTable) return;\n",
              "\n",
              "        const docLinkHtml = 'Like what you see? Visit the ' +\n",
              "          '<a target=\"_blank\" href=https://colab.research.google.com/notebooks/data_table.ipynb>data table notebook</a>'\n",
              "          + ' to learn more about interactive tables.';\n",
              "        element.innerHTML = '';\n",
              "        dataTable['output_type'] = 'display_data';\n",
              "        await google.colab.output.renderOutput(dataTable, element);\n",
              "        const docLink = document.createElement('div');\n",
              "        docLink.innerHTML = docLinkHtml;\n",
              "        element.appendChild(docLink);\n",
              "      }\n",
              "    </script>\n",
              "  </div>\n",
              "\n",
              "\n",
              "<div id=\"df-67f51acc-b158-4955-99e6-7f091bf4faa3\">\n",
              "  <button class=\"colab-df-quickchart\" onclick=\"quickchart('df-67f51acc-b158-4955-99e6-7f091bf4faa3')\"\n",
              "            title=\"Suggest charts\"\n",
              "            style=\"display:none;\">\n",
              "\n",
              "<svg xmlns=\"http://www.w3.org/2000/svg\" height=\"24px\"viewBox=\"0 0 24 24\"\n",
              "     width=\"24px\">\n",
              "    <g>\n",
              "        <path d=\"M19 3H5c-1.1 0-2 .9-2 2v14c0 1.1.9 2 2 2h14c1.1 0 2-.9 2-2V5c0-1.1-.9-2-2-2zM9 17H7v-7h2v7zm4 0h-2V7h2v10zm4 0h-2v-4h2v4z\"/>\n",
              "    </g>\n",
              "</svg>\n",
              "  </button>\n",
              "\n",
              "<style>\n",
              "  .colab-df-quickchart {\n",
              "      --bg-color: #E8F0FE;\n",
              "      --fill-color: #1967D2;\n",
              "      --hover-bg-color: #E2EBFA;\n",
              "      --hover-fill-color: #174EA6;\n",
              "      --disabled-fill-color: #AAA;\n",
              "      --disabled-bg-color: #DDD;\n",
              "  }\n",
              "\n",
              "  [theme=dark] .colab-df-quickchart {\n",
              "      --bg-color: #3B4455;\n",
              "      --fill-color: #D2E3FC;\n",
              "      --hover-bg-color: #434B5C;\n",
              "      --hover-fill-color: #FFFFFF;\n",
              "      --disabled-bg-color: #3B4455;\n",
              "      --disabled-fill-color: #666;\n",
              "  }\n",
              "\n",
              "  .colab-df-quickchart {\n",
              "    background-color: var(--bg-color);\n",
              "    border: none;\n",
              "    border-radius: 50%;\n",
              "    cursor: pointer;\n",
              "    display: none;\n",
              "    fill: var(--fill-color);\n",
              "    height: 32px;\n",
              "    padding: 0;\n",
              "    width: 32px;\n",
              "  }\n",
              "\n",
              "  .colab-df-quickchart:hover {\n",
              "    background-color: var(--hover-bg-color);\n",
              "    box-shadow: 0 1px 2px rgba(60, 64, 67, 0.3), 0 1px 3px 1px rgba(60, 64, 67, 0.15);\n",
              "    fill: var(--button-hover-fill-color);\n",
              "  }\n",
              "\n",
              "  .colab-df-quickchart-complete:disabled,\n",
              "  .colab-df-quickchart-complete:disabled:hover {\n",
              "    background-color: var(--disabled-bg-color);\n",
              "    fill: var(--disabled-fill-color);\n",
              "    box-shadow: none;\n",
              "  }\n",
              "\n",
              "  .colab-df-spinner {\n",
              "    border: 2px solid var(--fill-color);\n",
              "    border-color: transparent;\n",
              "    border-bottom-color: var(--fill-color);\n",
              "    animation:\n",
              "      spin 1s steps(1) infinite;\n",
              "  }\n",
              "\n",
              "  @keyframes spin {\n",
              "    0% {\n",
              "      border-color: transparent;\n",
              "      border-bottom-color: var(--fill-color);\n",
              "      border-left-color: var(--fill-color);\n",
              "    }\n",
              "    20% {\n",
              "      border-color: transparent;\n",
              "      border-left-color: var(--fill-color);\n",
              "      border-top-color: var(--fill-color);\n",
              "    }\n",
              "    30% {\n",
              "      border-color: transparent;\n",
              "      border-left-color: var(--fill-color);\n",
              "      border-top-color: var(--fill-color);\n",
              "      border-right-color: var(--fill-color);\n",
              "    }\n",
              "    40% {\n",
              "      border-color: transparent;\n",
              "      border-right-color: var(--fill-color);\n",
              "      border-top-color: var(--fill-color);\n",
              "    }\n",
              "    60% {\n",
              "      border-color: transparent;\n",
              "      border-right-color: var(--fill-color);\n",
              "    }\n",
              "    80% {\n",
              "      border-color: transparent;\n",
              "      border-right-color: var(--fill-color);\n",
              "      border-bottom-color: var(--fill-color);\n",
              "    }\n",
              "    90% {\n",
              "      border-color: transparent;\n",
              "      border-bottom-color: var(--fill-color);\n",
              "    }\n",
              "  }\n",
              "</style>\n",
              "\n",
              "  <script>\n",
              "    async function quickchart(key) {\n",
              "      const quickchartButtonEl =\n",
              "        document.querySelector('#' + key + ' button');\n",
              "      quickchartButtonEl.disabled = true;  // To prevent multiple clicks.\n",
              "      quickchartButtonEl.classList.add('colab-df-spinner');\n",
              "      try {\n",
              "        const charts = await google.colab.kernel.invokeFunction(\n",
              "            'suggestCharts', [key], {});\n",
              "      } catch (error) {\n",
              "        console.error('Error during call to suggestCharts:', error);\n",
              "      }\n",
              "      quickchartButtonEl.classList.remove('colab-df-spinner');\n",
              "      quickchartButtonEl.classList.add('colab-df-quickchart-complete');\n",
              "    }\n",
              "    (() => {\n",
              "      let quickchartButtonEl =\n",
              "        document.querySelector('#df-67f51acc-b158-4955-99e6-7f091bf4faa3 button');\n",
              "      quickchartButtonEl.style.display =\n",
              "        google.colab.kernel.accessAllowed ? 'block' : 'none';\n",
              "    })();\n",
              "  </script>\n",
              "</div>\n",
              "\n",
              "    </div>\n",
              "  </div>\n"
            ],
            "application/vnd.google.colaboratory.intrinsic+json": {
              "type": "dataframe",
              "variable_name": "df",
              "summary": "{\n  \"name\": \"df\",\n  \"rows\": 156,\n  \"fields\": [\n    {\n      \"column\": \"Cultura\",\n      \"properties\": {\n        \"dtype\": \"category\",\n        \"num_unique_values\": 4,\n        \"samples\": [\n          \"Oil palm fruit\",\n          \"Rubber, natural\",\n          \"Cocoa, beans\"\n        ],\n        \"semantic_type\": \"\",\n        \"description\": \"\"\n      }\n    },\n    {\n      \"column\": \"Precipita\\u00e7\\u00e3o (mm/dia)\",\n      \"properties\": {\n        \"dtype\": \"number\",\n        \"std\": 289.45791446544206,\n        \"min\": 1934.62,\n        \"max\": 3085.79,\n        \"num_unique_values\": 39,\n        \"samples\": [\n          2604.59,\n          2967.41,\n          2344.72\n        ],\n        \"semantic_type\": \"\",\n        \"description\": \"\"\n      }\n    },\n    {\n      \"column\": \"Umidade Espec\\u00edfica (g/kg)\",\n      \"properties\": {\n        \"dtype\": \"number\",\n        \"std\": 0.29392256031822384,\n        \"min\": 17.54,\n        \"max\": 18.7,\n        \"num_unique_values\": 33,\n        \"samples\": [\n          18.5,\n          18.2,\n          18.34\n        ],\n        \"semantic_type\": \"\",\n        \"description\": \"\"\n      }\n    },\n    {\n      \"column\": \"Umidade Relativa (%)\",\n      \"properties\": {\n        \"dtype\": \"number\",\n        \"std\": 0.9962263288344806,\n        \"min\": 82.11,\n        \"max\": 86.1,\n        \"num_unique_values\": 38,\n        \"samples\": [\n          83.65,\n          84.85,\n          84.12\n        ],\n        \"semantic_type\": \"\",\n        \"description\": \"\"\n      }\n    },\n    {\n      \"column\": \"Temperatura (\\u00b0C)\",\n      \"properties\": {\n        \"dtype\": \"number\",\n        \"std\": 0.2610498622941692,\n        \"min\": 25.56,\n        \"max\": 26.81,\n        \"num_unique_values\": 29,\n        \"samples\": [\n          26.46,\n          26.18,\n          26.27\n        ],\n        \"semantic_type\": \"\",\n        \"description\": \"\"\n      }\n    },\n    {\n      \"column\": \"Rendimento (kg/ha)\",\n      \"properties\": {\n        \"dtype\": \"number\",\n        \"std\": 70421,\n        \"min\": 5249,\n        \"max\": 203399,\n        \"num_unique_values\": 155,\n        \"samples\": [\n          26648,\n          9612,\n          7066\n        ],\n        \"semantic_type\": \"\",\n        \"description\": \"\"\n      }\n    }\n  ]\n}"
            }
          },
          "metadata": {},
          "execution_count": 2
        }
      ],
      "source": [
        "# Carregar o dataset\n",
        "df = pd.read_csv(\"crop_yield.csv\")\n",
        "\n",
        "# Renomeando colunas para melhor apresentação\n",
        "df.rename(columns={\n",
        "    \"Crop\": \"Cultura\",\n",
        "    \"Precipitation (mm day-1)\": \"Precipitação (mm/dia)\",\n",
        "    \"Specific Humidity at 2 Meters (g/kg)\": \"Umidade Específica (g/kg)\",\n",
        "    \"Relative Humidity at 2 Meters (%)\": \"Umidade Relativa (%)\",\n",
        "    \"Temperature at 2 Meters (C)\": \"Temperatura (°C)\",\n",
        "    \"Yield\": \"Rendimento (kg/ha)\"\n",
        "}, inplace=True)\n",
        "\n",
        "# Exibir as primeiras linhas do DataFrame\n",
        "df.head()"
      ]
    },
    {
      "cell_type": "code",
      "execution_count": 3,
      "metadata": {
        "colab": {
          "base_uri": "https://localhost:8080/"
        },
        "id": "cTNM857tHbpV",
        "outputId": "7c399280-a00e-49cb-bb68-fb708048e721"
      },
      "outputs": [
        {
          "output_type": "stream",
          "name": "stdout",
          "text": [
            "<class 'pandas.core.frame.DataFrame'>\n",
            "RangeIndex: 156 entries, 0 to 155\n",
            "Data columns (total 6 columns):\n",
            " #   Column                     Non-Null Count  Dtype  \n",
            "---  ------                     --------------  -----  \n",
            " 0   Cultura                    156 non-null    object \n",
            " 1   Precipitação (mm/dia)      156 non-null    float64\n",
            " 2   Umidade Específica (g/kg)  156 non-null    float64\n",
            " 3   Umidade Relativa (%)       156 non-null    float64\n",
            " 4   Temperatura (°C)           156 non-null    float64\n",
            " 5   Rendimento (kg/ha)         156 non-null    int64  \n",
            "dtypes: float64(4), int64(1), object(1)\n",
            "memory usage: 7.4+ KB\n"
          ]
        }
      ],
      "source": [
        "# Apresentação das informações gerais dos dados do arquivo\n",
        "df.info()"
      ]
    },
    {
      "cell_type": "code",
      "execution_count": 4,
      "metadata": {
        "colab": {
          "base_uri": "https://localhost:8080/"
        },
        "id": "sY_pQooLIhbM",
        "outputId": "b89b039a-e7bd-4c11-9633-e7e4e859ee50"
      },
      "outputs": [
        {
          "output_type": "stream",
          "name": "stdout",
          "text": [
            "Número de dados duplicados: 0\n"
          ]
        }
      ],
      "source": [
        "# Verificar a presença de dados duplicados\n",
        "\n",
        "duplicates = df.duplicated().sum()\n",
        "print(\"Número de dados duplicados:\", duplicates)"
      ]
    },
    {
      "cell_type": "code",
      "execution_count": 5,
      "metadata": {
        "colab": {
          "base_uri": "https://localhost:8080/",
          "height": 670
        },
        "id": "ijwSOrZbIx-P",
        "outputId": "de229d97-7834-4bc6-e129-d81c55a75bc1"
      },
      "outputs": [
        {
          "output_type": "display_data",
          "data": {
            "text/plain": [
              "<Figure size 1200x600 with 1 Axes>"
            ],
            "image/png": "[encoded data removed]"
          },
          "metadata": {}
        }
      ],
      "source": [
        "# Verificar a presença de outliers a partir da apresentação do Boxplot\n",
        "\n",
        "plt.figure(figsize=(12, 6))\n",
        "sns.boxplot(data=df)\n",
        "plt.title(\"Detecção de outliers\")\n",
        "plt.xticks(rotation=45)\n",
        "plt.show()"
      ]
    },
    {
      "cell_type": "code",
      "execution_count": 6,
      "metadata": {
        "colab": {
          "base_uri": "https://localhost:8080/",
          "height": 637
        },
        "id": "mle3jVi1JTAS",
        "outputId": "80aac7bc-7a70-4bbe-fab8-ace2e1c7a72b"
      },
      "outputs": [
        {
          "output_type": "display_data",
          "data": {
            "text/plain": [
              "<Figure size 1000x600 with 1 Axes>"
            ],
            "image/png": "[encoded data removed]"
          },
          "metadata": {}
        }
      ],
      "source": [
        "# Apresentação da distribuição dos labels\n",
        "\n",
        "plt.figure(figsize=(10, 6))\n",
        "sns.countplot(x='Cultura', data=df)\n",
        "plt.title(\"Distribuição de Grão\")\n",
        "plt.xlabel(\"Tipo de Grão\")\n",
        "plt.ylabel(\"Quantidade\")\n",
        "plt.xticks(rotation=45)\n",
        "plt.show()"
      ]
    },
    {
      "cell_type": "code",
      "execution_count": 7,
      "metadata": {
        "colab": {
          "base_uri": "https://localhost:8080/",
          "height": 867
        },
        "id": "l_l9_ZHgJxpu",
        "outputId": "1dad9e8c-b68e-4a45-eb19-8fc7f8e21d6a"
      },
      "outputs": [
        {
          "output_type": "display_data",
          "data": {
            "text/plain": [
              "<Figure size 1200x800 with 2 Axes>"
            ],
            "image/png": "[encoded data removed]"
          },
          "metadata": {}
        }
      ],
      "source": [
        "# Apresentação da matriz de correção\n",
        "\n",
        "numerics = ['int16', 'int32', 'int64', 'float16', 'float32', 'float64']\n",
        "plt.figure(figsize=(12, 8))\n",
        "sns.heatmap(df.select_dtypes(include=numerics).corr(), annot=True, cmap='coolwarm')\n",
        "plt.title(\"Matriz de Correlação\")\n",
        "plt.show()"
      ]
    },
    {
      "cell_type": "markdown",
      "metadata": {
        "id": "L5DZqC3EYTCU"
      },
      "source": [
        "## ↪ **Limpeza dos dados**"
      ]
    },
    {
      "cell_type": "code",
      "execution_count": 8,
      "metadata": {
        "colab": {
          "base_uri": "https://localhost:8080/"
        },
        "id": "t4tzmOKBjALX",
        "outputId": "8421c887-77df-4058-8879-22a83d9fd36c"
      },
      "outputs": [
        {
          "output_type": "stream",
          "name": "stdout",
          "text": [
            "Coluna 'Precipitação (mm/dia)' possuia 0 outliers.\n",
            "Coluna 'Umidade Específica (g/kg)' possuia 0 outliers.\n",
            "Coluna 'Umidade Relativa (%)' possuia 0 outliers.\n",
            "Coluna 'Temperatura (°C)' possuia 12 outliers.\n",
            "Coluna 'Rendimento (kg/ha)' possuia 35 outliers.\n"
          ]
        },
        {
          "output_type": "execute_result",
          "data": {
            "text/plain": [
              "(156, 6)"
            ]
          },
          "metadata": {},
          "execution_count": 8
        }
      ],
      "source": [
        "# Realiza o comando para retirar todos os outliers\n",
        "\n",
        "outlier_counts = {}\n",
        "\n",
        "for coluna in [\"Precipitação (mm/dia)\", \"Umidade Específica (g/kg)\", \"Umidade Relativa (%)\", \"Temperatura (°C)\", \"Rendimento (kg/ha)\"]:\n",
        "\n",
        "    ExibeValor = True\n",
        "\n",
        "    while True:\n",
        "\n",
        "        # Calcular os limites do IQR\n",
        "        Q1 = df[coluna].quantile(0.25)\n",
        "        Q3 = df[coluna].quantile(0.75)\n",
        "        IQR = Q3 - Q1\n",
        "        limite_inferior = Q1 - 1.5 * IQR\n",
        "        limite_superior = Q3 + 1.5 * IQR\n",
        "\n",
        "        # Contar os outliers da coluna atual\n",
        "        outliers = df[(df[coluna] < limite_inferior) | (df[coluna] > limite_superior)]\n",
        "        num_outliers = len(outliers)\n",
        "\n",
        "        # Coleta dados da qauntidade inicial de outliers\n",
        "        if ExibeValor == True:\n",
        "          outlier_counts[coluna] = len(outliers)\n",
        "          ExibeValor = False\n",
        "\n",
        "        # Verificar se ainda existem outliers\n",
        "        if num_outliers == 0:\n",
        "            break\n",
        "        else:\n",
        "            # Substituir os outliers pela mediana\n",
        "            mediana = df[coluna].median()\n",
        "            df[coluna] = df[coluna].apply(lambda x: mediana if x < limite_inferior or x > limite_superior else x)\n",
        "\n",
        "# Exibir a quantidade de outliers para cada coluna\n",
        "for coluna, count in outlier_counts.items():\n",
        "    print(f\"Coluna '{coluna}' possuia {count} outliers.\")\n",
        "\n",
        "# formatar o banco de dados\n",
        "df.shape"
      ]
    },
    {
      "cell_type": "code",
      "execution_count": 9,
      "metadata": {
        "colab": {
          "base_uri": "https://localhost:8080/",
          "height": 670
        },
        "id": "XNSQFikneJAU",
        "outputId": "842f043f-fd96-448b-9581-81f9c4cfad4e"
      },
      "outputs": [
        {
          "output_type": "display_data",
          "data": {
            "text/plain": [
              "<Figure size 1200x600 with 1 Axes>"
            ],
            "image/png": "[encoded data removed]"
          },
          "metadata": {}
        }
      ],
      "source": [
        "# Verificar a presença de outliers a partir da apresentação do Boxplot\n",
        "\n",
        "plt.figure(figsize=(12, 6))\n",
        "sns.boxplot(data=df)\n",
        "plt.title(\"Detecção de outliers\")\n",
        "plt.xticks(rotation=45)\n",
        "plt.show()"
      ]
    },
    {
      "cell_type": "markdown",
      "metadata": {
        "id": "gumG6aJD6pHD"
      },
      "source": [
        "## **↪ Dados para treinamento e aprovação**"
      ]
    },
    {
      "cell_type": "code",
      "execution_count": 10,
      "metadata": {
        "colab": {
          "base_uri": "https://localhost:8080/",
          "height": 206
        },
        "id": "T0zlX9Xm6vPa",
        "outputId": "c82e84a4-7494-4843-b1bc-341bf1f966f9"
      },
      "outputs": [
        {
          "output_type": "execute_result",
          "data": {
            "text/plain": [
              "   Cultura  Precipitação (mm/dia)  Umidade Específica (g/kg)  \\\n",
              "0        0                2248.92                      17.72   \n",
              "1        0                1938.42                      17.54   \n",
              "2        0                2301.54                      17.81   \n",
              "3        0                2592.35                      17.61   \n",
              "4        0                2344.72                      17.61   \n",
              "\n",
              "   Umidade Relativa (%)  Temperatura (°C)  Rendimento (kg/ha)  \n",
              "0                 83.40             26.01             11560.0  \n",
              "1                 82.11             26.11             11253.0  \n",
              "2                 82.79             26.24              9456.0  \n",
              "3                 85.07             26.13              9321.0  \n",
              "4                 84.12             25.76              8800.0  "
            ],
            "text/html": [
              "\n",
              "  <div id=\"df-3a12f5f8-c0aa-4645-aa21-f24704b4eb8d\" class=\"colab-df-container\">\n",
              "    <div>\n",
              "<style scoped>\n",
              "    .dataframe tbody tr th:only-of-type {\n",
              "        vertical-align: middle;\n",
              "    }\n",
              "\n",
              "    .dataframe tbody tr th {\n",
              "        vertical-align: top;\n",
              "    }\n",
              "\n",
              "    .dataframe thead th {\n",
              "        text-align: right;\n",
              "    }\n",
              "</style>\n",
              "<table border=\"1\" class=\"dataframe\">\n",
              "  <thead>\n",
              "    <tr style=\"text-align: right;\">\n",
              "      <th></th>\n",
              "      <th>Cultura</th>\n",
              "      <th>Precipitação (mm/dia)</th>\n",
              "      <th>Umidade Específica (g/kg)</th>\n",
              "      <th>Umidade Relativa (%)</th>\n",
              "      <th>Temperatura (°C)</th>\n",
              "      <th>Rendimento (kg/ha)</th>\n",
              "    </tr>\n",
              "  </thead>\n",
              "  <tbody>\n",
              "    <tr>\n",
              "      <th>0</th>\n",
              "      <td>0</td>\n",
              "      <td>2248.92</td>\n",
              "      <td>17.72</td>\n",
              "      <td>83.40</td>\n",
              "      <td>26.01</td>\n",
              "      <td>11560.0</td>\n",
              "    </tr>\n",
              "    <tr>\n",
              "      <th>1</th>\n",
              "      <td>0</td>\n",
              "      <td>1938.42</td>\n",
              "      <td>17.54</td>\n",
              "      <td>82.11</td>\n",
              "      <td>26.11</td>\n",
              "      <td>11253.0</td>\n",
              "    </tr>\n",
              "    <tr>\n",
              "      <th>2</th>\n",
              "      <td>0</td>\n",
              "      <td>2301.54</td>\n",
              "      <td>17.81</td>\n",
              "      <td>82.79</td>\n",
              "      <td>26.24</td>\n",
              "      <td>9456.0</td>\n",
              "    </tr>\n",
              "    <tr>\n",
              "      <th>3</th>\n",
              "      <td>0</td>\n",
              "      <td>2592.35</td>\n",
              "      <td>17.61</td>\n",
              "      <td>85.07</td>\n",
              "      <td>26.13</td>\n",
              "      <td>9321.0</td>\n",
              "    </tr>\n",
              "    <tr>\n",
              "      <th>4</th>\n",
              "      <td>0</td>\n",
              "      <td>2344.72</td>\n",
              "      <td>17.61</td>\n",
              "      <td>84.12</td>\n",
              "      <td>25.76</td>\n",
              "      <td>8800.0</td>\n",
              "    </tr>\n",
              "  </tbody>\n",
              "</table>\n",
              "</div>\n",
              "    <div class=\"colab-df-buttons\">\n",
              "\n",
              "  <div class=\"colab-df-container\">\n",
              "    <button class=\"colab-df-convert\" onclick=\"convertToInteractive('df-3a12f5f8-c0aa-4645-aa21-f24704b4eb8d')\"\n",
              "            title=\"Convert this dataframe to an interactive table.\"\n",
              "            style=\"display:none;\">\n",
              "\n",
              "  <svg xmlns=\"http://www.w3.org/2000/svg\" height=\"24px\" viewBox=\"0 -960 960 960\">\n",
              "    <path d=\"M120-120v-720h720v720H120Zm60-500h600v-160H180v160Zm220 220h160v-160H400v160Zm0 220h160v-160H400v160ZM180-400h160v-160H180v160Zm440 0h160v-160H620v160ZM180-180h160v-160H180v160Zm440 0h160v-160H620v160Z\"/>\n",
              "  </svg>\n",
              "    </button>\n",
              "\n",
              "  <style>\n",
              "    .colab-df-container {\n",
              "      display:flex;\n",
              "      gap: 12px;\n",
              "    }\n",
              "\n",
              "    .colab-df-convert {\n",
              "      background-color: #E8F0FE;\n",
              "      border: none;\n",
              "      border-radius: 50%;\n",
              "      cursor: pointer;\n",
              "      display: none;\n",
              "      fill: #1967D2;\n",
              "      height: 32px;\n",
              "      padding: 0 0 0 0;\n",
              "      width: 32px;\n",
              "    }\n",
              "\n",
              "    .colab-df-convert:hover {\n",
              "      background-color: #E2EBFA;\n",
              "      box-shadow: 0px 1px 2px rgba(60, 64, 67, 0.3), 0px 1px 3px 1px rgba(60, 64, 67, 0.15);\n",
              "      fill: #174EA6;\n",
              "    }\n",
              "\n",
              "    .colab-df-buttons div {\n",
              "      margin-bottom: 4px;\n",
              "    }\n",
              "\n",
              "    [theme=dark] .colab-df-convert {\n",
              "      background-color: #3B4455;\n",
              "      fill: #D2E3FC;\n",
              "    }\n",
              "\n",
              "    [theme=dark] .colab-df-convert:hover {\n",
              "      background-color: #434B5C;\n",
              "      box-shadow: 0px 1px 3px 1px rgba(0, 0, 0, 0.15);\n",
              "      filter: drop-shadow(0px 1px 2px rgba(0, 0, 0, 0.3));\n",
              "      fill: #FFFFFF;\n",
              "    }\n",
              "  </style>\n",
              "\n",
              "    <script>\n",
              "      const buttonEl =\n",
              "        document.querySelector('#df-3a12f5f8-c0aa-4645-aa21-f24704b4eb8d button.colab-df-convert');\n",
              "      buttonEl.style.display =\n",
              "        google.colab.kernel.accessAllowed ? 'block' : 'none';\n",
              "\n",
              "      async function convertToInteractive(key) {\n",
              "        const element = document.querySelector('#df-3a12f5f8-c0aa-4645-aa21-f24704b4eb8d');\n",
              "        const dataTable =\n",
              "          await google.colab.kernel.invokeFunction('convertToInteractive',\n",
              "                                                    [key], {});\n",
              "        if (!dataTable) return;\n",
              "\n",
              "        const docLinkHtml = 'Like what you see? Visit the ' +\n",
              "          '<a target=\"_blank\" href=https://colab.research.google.com/notebooks/data_table.ipynb>data table notebook</a>'\n",
              "          + ' to learn more about interactive tables.';\n",
              "        element.innerHTML = '';\n",
              "        dataTable['output_type'] = 'display_data';\n",
              "        await google.colab.output.renderOutput(dataTable, element);\n",
              "        const docLink = document.createElement('div');\n",
              "        docLink.innerHTML = docLinkHtml;\n",
              "        element.appendChild(docLink);\n",
              "      }\n",
              "    </script>\n",
              "  </div>\n",
              "\n",
              "\n",
              "<div id=\"df-daa0d970-c331-4fac-9f34-d900e5cf7b86\">\n",
              "  <button class=\"colab-df-quickchart\" onclick=\"quickchart('df-daa0d970-c331-4fac-9f34-d900e5cf7b86')\"\n",
              "            title=\"Suggest charts\"\n",
              "            style=\"display:none;\">\n",
              "\n",
              "<svg xmlns=\"http://www.w3.org/2000/svg\" height=\"24px\"viewBox=\"0 0 24 24\"\n",
              "     width=\"24px\">\n",
              "    <g>\n",
              "        <path d=\"M19 3H5c-1.1 0-2 .9-2 2v14c0 1.1.9 2 2 2h14c1.1 0 2-.9 2-2V5c0-1.1-.9-2-2-2zM9 17H7v-7h2v7zm4 0h-2V7h2v10zm4 0h-2v-4h2v4z\"/>\n",
              "    </g>\n",
              "</svg>\n",
              "  </button>\n",
              "\n",
              "<style>\n",
              "  .colab-df-quickchart {\n",
              "      --bg-color: #E8F0FE;\n",
              "      --fill-color: #1967D2;\n",
              "      --hover-bg-color: #E2EBFA;\n",
              "      --hover-fill-color: #174EA6;\n",
              "      --disabled-fill-color: #AAA;\n",
              "      --disabled-bg-color: #DDD;\n",
              "  }\n",
              "\n",
              "  [theme=dark] .colab-df-quickchart {\n",
              "      --bg-color: #3B4455;\n",
              "      --fill-color: #D2E3FC;\n",
              "      --hover-bg-color: #434B5C;\n",
              "      --hover-fill-color: #FFFFFF;\n",
              "      --disabled-bg-color: #3B4455;\n",
              "      --disabled-fill-color: #666;\n",
              "  }\n",
              "\n",
              "  .colab-df-quickchart {\n",
              "    background-color: var(--bg-color);\n",
              "    border: none;\n",
              "    border-radius: 50%;\n",
              "    cursor: pointer;\n",
              "    display: none;\n",
              "    fill: var(--fill-color);\n",
              "    height: 32px;\n",
              "    padding: 0;\n",
              "    width: 32px;\n",
              "  }\n",
              "\n",
              "  .colab-df-quickchart:hover {\n",
              "    background-color: var(--hover-bg-color);\n",
              "    box-shadow: 0 1px 2px rgba(60, 64, 67, 0.3), 0 1px 3px 1px rgba(60, 64, 67, 0.15);\n",
              "    fill: var(--button-hover-fill-color);\n",
              "  }\n",
              "\n",
              "  .colab-df-quickchart-complete:disabled,\n",
              "  .colab-df-quickchart-complete:disabled:hover {\n",
              "    background-color: var(--disabled-bg-color);\n",
              "    fill: var(--disabled-fill-color);\n",
              "    box-shadow: none;\n",
              "  }\n",
              "\n",
              "  .colab-df-spinner {\n",
              "    border: 2px solid var(--fill-color);\n",
              "    border-color: transparent;\n",
              "    border-bottom-color: var(--fill-color);\n",
              "    animation:\n",
              "      spin 1s steps(1) infinite;\n",
              "  }\n",
              "\n",
              "  @keyframes spin {\n",
              "    0% {\n",
              "      border-color: transparent;\n",
              "      border-bottom-color: var(--fill-color);\n",
              "      border-left-color: var(--fill-color);\n",
              "    }\n",
              "    20% {\n",
              "      border-color: transparent;\n",
              "      border-left-color: var(--fill-color);\n",
              "      border-top-color: var(--fill-color);\n",
              "    }\n",
              "    30% {\n",
              "      border-color: transparent;\n",
              "      border-left-color: var(--fill-color);\n",
              "      border-top-color: var(--fill-color);\n",
              "      border-right-color: var(--fill-color);\n",
              "    }\n",
              "    40% {\n",
              "      border-color: transparent;\n",
              "      border-right-color: var(--fill-color);\n",
              "      border-top-color: var(--fill-color);\n",
              "    }\n",
              "    60% {\n",
              "      border-color: transparent;\n",
              "      border-right-color: var(--fill-color);\n",
              "    }\n",
              "    80% {\n",
              "      border-color: transparent;\n",
              "      border-right-color: var(--fill-color);\n",
              "      border-bottom-color: var(--fill-color);\n",
              "    }\n",
              "    90% {\n",
              "      border-color: transparent;\n",
              "      border-bottom-color: var(--fill-color);\n",
              "    }\n",
              "  }\n",
              "</style>\n",
              "\n",
              "  <script>\n",
              "    async function quickchart(key) {\n",
              "      const quickchartButtonEl =\n",
              "        document.querySelector('#' + key + ' button');\n",
              "      quickchartButtonEl.disabled = true;  // To prevent multiple clicks.\n",
              "      quickchartButtonEl.classList.add('colab-df-spinner');\n",
              "      try {\n",
              "        const charts = await google.colab.kernel.invokeFunction(\n",
              "            'suggestCharts', [key], {});\n",
              "      } catch (error) {\n",
              "        console.error('Error during call to suggestCharts:', error);\n",
              "      }\n",
              "      quickchartButtonEl.classList.remove('colab-df-spinner');\n",
              "      quickchartButtonEl.classList.add('colab-df-quickchart-complete');\n",
              "    }\n",
              "    (() => {\n",
              "      let quickchartButtonEl =\n",
              "        document.querySelector('#df-daa0d970-c331-4fac-9f34-d900e5cf7b86 button');\n",
              "      quickchartButtonEl.style.display =\n",
              "        google.colab.kernel.accessAllowed ? 'block' : 'none';\n",
              "    })();\n",
              "  </script>\n",
              "</div>\n",
              "\n",
              "    </div>\n",
              "  </div>\n"
            ],
            "application/vnd.google.colaboratory.intrinsic+json": {
              "type": "dataframe",
              "variable_name": "df",
              "summary": "{\n  \"name\": \"df\",\n  \"rows\": 156,\n  \"fields\": [\n    {\n      \"column\": \"Cultura\",\n      \"properties\": {\n        \"dtype\": \"number\",\n        \"std\": 1,\n        \"min\": 0,\n        \"max\": 3,\n        \"num_unique_values\": 4,\n        \"samples\": [\n          1,\n          3,\n          0\n        ],\n        \"semantic_type\": \"\",\n        \"description\": \"\"\n      }\n    },\n    {\n      \"column\": \"Precipita\\u00e7\\u00e3o (mm/dia)\",\n      \"properties\": {\n        \"dtype\": \"number\",\n        \"std\": 289.45791446544206,\n        \"min\": 1934.62,\n        \"max\": 3085.79,\n        \"num_unique_values\": 39,\n        \"samples\": [\n          2604.59,\n          2967.41,\n          2344.72\n        ],\n        \"semantic_type\": \"\",\n        \"description\": \"\"\n      }\n    },\n    {\n      \"column\": \"Umidade Espec\\u00edfica (g/kg)\",\n      \"properties\": {\n        \"dtype\": \"number\",\n        \"std\": 0.29392256031822384,\n        \"min\": 17.54,\n        \"max\": 18.7,\n        \"num_unique_values\": 33,\n        \"samples\": [\n          18.5,\n          18.2,\n          18.34\n        ],\n        \"semantic_type\": \"\",\n        \"description\": \"\"\n      }\n    },\n    {\n      \"column\": \"Umidade Relativa (%)\",\n      \"properties\": {\n        \"dtype\": \"number\",\n        \"std\": 0.9962263288344806,\n        \"min\": 82.11,\n        \"max\": 86.1,\n        \"num_unique_values\": 38,\n        \"samples\": [\n          83.65,\n          84.85,\n          84.12\n        ],\n        \"semantic_type\": \"\",\n        \"description\": \"\"\n      }\n    },\n    {\n      \"column\": \"Temperatura (\\u00b0C)\",\n      \"properties\": {\n        \"dtype\": \"number\",\n        \"std\": 0.1736169976393827,\n        \"min\": 25.76,\n        \"max\": 26.49,\n        \"num_unique_values\": 25,\n        \"samples\": [\n          26.1,\n          26.03,\n          26.01\n        ],\n        \"semantic_type\": \"\",\n        \"description\": \"\"\n      }\n    },\n    {\n      \"column\": \"Rendimento (kg/ha)\",\n      \"properties\": {\n        \"dtype\": \"number\",\n        \"std\": 8061.876534752967,\n        \"min\": 5249.0,\n        \"max\": 34221.0,\n        \"num_unique_values\": 108,\n        \"samples\": [\n          8604.0,\n          5765.0,\n          8800.0\n        ],\n        \"semantic_type\": \"\",\n        \"description\": \"\"\n      }\n    }\n  ]\n}"
            }
          },
          "metadata": {},
          "execution_count": 10
        }
      ],
      "source": [
        "# Iniciando o processo de label encoder\n",
        "le = LabelEncoder()\n",
        "y = df[\"Cultura\"]\n",
        "\n",
        "# Aplicando Label Encoding na coluna 'Cultura'\n",
        "df[\"Cultura\"] = le.fit_transform(y)\n",
        "\n",
        "# Verifica fromatação após realização do label\n",
        "df.head()"
      ]
    },
    {
      "cell_type": "code",
      "execution_count": 12,
      "metadata": {
        "id": "qtCv6bWpvnOo"
      },
      "outputs": [],
      "source": [
        "# Separando features e labels\n",
        "X_estat = df"
      ]
    },
    {
      "cell_type": "code",
      "execution_count": 13,
      "metadata": {
        "colab": {
          "base_uri": "https://localhost:8080/"
        },
        "id": "HQ4qFLGqvnLd",
        "outputId": "256474b5-a8f0-45a0-dcca-2fa42fa62379"
      },
      "outputs": [
        {
          "output_type": "stream",
          "name": "stdout",
          "text": [
            "Estatísticas descritivas:\n",
            "                                  Média     Mediana  Desvio Padrão\n",
            "Cultura                        1.500000      1.5000       1.121635\n",
            "Precipitação (mm/dia)       2486.498974   2424.5500     289.457914\n",
            "Umidade Específica (g/kg)     18.203077     18.2700       0.293923\n",
            "Umidade Relativa (%)          84.737692     84.8500       0.996226\n",
            "Temperatura (°C)              26.148718     26.1300       0.173617\n",
            "Rendimento (kg/ha)         14996.865385  13419.4375    8061.876535\n"
          ]
        }
      ],
      "source": [
        "# Calcular as estatísticas descritivas\n",
        "estatisticas = pd.DataFrame({\n",
        "    \"Média\": X_estat.mean(),\n",
        "    \"Mediana\": X_estat.median(),\n",
        "    \"Desvio Padrão\": X_estat.std()\n",
        "    })\n",
        "\n",
        "# Exibir as estatísticas\n",
        "print(\"Estatísticas descritivas:\")\n",
        "print(estatisticas)"
      ]
    },
    {
      "cell_type": "code",
      "execution_count": 14,
      "metadata": {
        "id": "zvakxt2yvnHY"
      },
      "outputs": [],
      "source": [
        "# Separando os valores para o eixo X que seram nosso parametros de\n",
        "X = df.drop(\"Rendimento (kg/ha)\", axis=1)\n",
        "\n",
        "# Separando os valores para o eixo Y\n",
        "Y = df[\"Rendimento (kg/ha)\"]"
      ]
    },
    {
      "cell_type": "code",
      "execution_count": 15,
      "metadata": {
        "colab": {
          "base_uri": "https://localhost:8080/",
          "height": 206
        },
        "id": "fZen6YoEvnC_",
        "outputId": "96e99d66-ff6a-4a50-ebfb-c30e395fe03e"
      },
      "outputs": [
        {
          "output_type": "execute_result",
          "data": {
            "text/plain": [
              "   Cultura  Precipitação (mm/dia)  Umidade Específica (g/kg)  \\\n",
              "0      0.0               0.273027                   0.155172   \n",
              "1      0.0               0.003301                   0.000000   \n",
              "2      0.0               0.318737                   0.232759   \n",
              "3      0.0               0.571358                   0.060345   \n",
              "4      0.0               0.356246                   0.060345   \n",
              "\n",
              "   Umidade Relativa (%)  Temperatura (°C)  \n",
              "0              0.323308          0.342466  \n",
              "1              0.000000          0.479452  \n",
              "2              0.170426          0.657534  \n",
              "3              0.741855          0.506849  \n",
              "4              0.503759          0.000000  "
            ],
            "text/html": [
              "\n",
              "  <div id=\"df-7bcd8f79-800f-4d5e-b5af-3b7bdeababd3\" class=\"colab-df-container\">\n",
              "    <div>\n",
              "<style scoped>\n",
              "    .dataframe tbody tr th:only-of-type {\n",
              "        vertical-align: middle;\n",
              "    }\n",
              "\n",
              "    .dataframe tbody tr th {\n",
              "        vertical-align: top;\n",
              "    }\n",
              "\n",
              "    .dataframe thead th {\n",
              "        text-align: right;\n",
              "    }\n",
              "</style>\n",
              "<table border=\"1\" class=\"dataframe\">\n",
              "  <thead>\n",
              "    <tr style=\"text-align: right;\">\n",
              "      <th></th>\n",
              "      <th>Cultura</th>\n",
              "      <th>Precipitação (mm/dia)</th>\n",
              "      <th>Umidade Específica (g/kg)</th>\n",
              "      <th>Umidade Relativa (%)</th>\n",
              "      <th>Temperatura (°C)</th>\n",
              "    </tr>\n",
              "  </thead>\n",
              "  <tbody>\n",
              "    <tr>\n",
              "      <th>0</th>\n",
              "      <td>0.0</td>\n",
              "      <td>0.273027</td>\n",
              "      <td>0.155172</td>\n",
              "      <td>0.323308</td>\n",
              "      <td>0.342466</td>\n",
              "    </tr>\n",
              "    <tr>\n",
              "      <th>1</th>\n",
              "      <td>0.0</td>\n",
              "      <td>0.003301</td>\n",
              "      <td>0.000000</td>\n",
              "      <td>0.000000</td>\n",
              "      <td>0.479452</td>\n",
              "    </tr>\n",
              "    <tr>\n",
              "      <th>2</th>\n",
              "      <td>0.0</td>\n",
              "      <td>0.318737</td>\n",
              "      <td>0.232759</td>\n",
              "      <td>0.170426</td>\n",
              "      <td>0.657534</td>\n",
              "    </tr>\n",
              "    <tr>\n",
              "      <th>3</th>\n",
              "      <td>0.0</td>\n",
              "      <td>0.571358</td>\n",
              "      <td>0.060345</td>\n",
              "      <td>0.741855</td>\n",
              "      <td>0.506849</td>\n",
              "    </tr>\n",
              "    <tr>\n",
              "      <th>4</th>\n",
              "      <td>0.0</td>\n",
              "      <td>0.356246</td>\n",
              "      <td>0.060345</td>\n",
              "      <td>0.503759</td>\n",
              "      <td>0.000000</td>\n",
              "    </tr>\n",
              "  </tbody>\n",
              "</table>\n",
              "</div>\n",
              "    <div class=\"colab-df-buttons\">\n",
              "\n",
              "  <div class=\"colab-df-container\">\n",
              "    <button class=\"colab-df-convert\" onclick=\"convertToInteractive('df-7bcd8f79-800f-4d5e-b5af-3b7bdeababd3')\"\n",
              "            title=\"Convert this dataframe to an interactive table.\"\n",
              "            style=\"display:none;\">\n",
              "\n",
              "  <svg xmlns=\"http://www.w3.org/2000/svg\" height=\"24px\" viewBox=\"0 -960 960 960\">\n",
              "    <path d=\"M120-120v-720h720v720H120Zm60-500h600v-160H180v160Zm220 220h160v-160H400v160Zm0 220h160v-160H400v160ZM180-400h160v-160H180v160Zm440 0h160v-160H620v160ZM180-180h160v-160H180v160Zm440 0h160v-160H620v160Z\"/>\n",
              "  </svg>\n",
              "    </button>\n",
              "\n",
              "  <style>\n",
              "    .colab-df-container {\n",
              "      display:flex;\n",
              "      gap: 12px;\n",
              "    }\n",
              "\n",
              "    .colab-df-convert {\n",
              "      background-color: #E8F0FE;\n",
              "      border: none;\n",
              "      border-radius: 50%;\n",
              "      cursor: pointer;\n",
              "      display: none;\n",
              "      fill: #1967D2;\n",
              "      height: 32px;\n",
              "      padding: 0 0 0 0;\n",
              "      width: 32px;\n",
              "    }\n",
              "\n",
              "    .colab-df-convert:hover {\n",
              "      background-color: #E2EBFA;\n",
              "      box-shadow: 0px 1px 2px rgba(60, 64, 67, 0.3), 0px 1px 3px 1px rgba(60, 64, 67, 0.15);\n",
              "      fill: #174EA6;\n",
              "    }\n",
              "\n",
              "    .colab-df-buttons div {\n",
              "      margin-bottom: 4px;\n",
              "    }\n",
              "\n",
              "    [theme=dark] .colab-df-convert {\n",
              "      background-color: #3B4455;\n",
              "      fill: #D2E3FC;\n",
              "    }\n",
              "\n",
              "    [theme=dark] .colab-df-convert:hover {\n",
              "      background-color: #434B5C;\n",
              "      box-shadow: 0px 1px 3px 1px rgba(0, 0, 0, 0.15);\n",
              "      filter: drop-shadow(0px 1px 2px rgba(0, 0, 0, 0.3));\n",
              "      fill: #FFFFFF;\n",
              "    }\n",
              "  </style>\n",
              "\n",
              "    <script>\n",
              "      const buttonEl =\n",
              "        document.querySelector('#df-7bcd8f79-800f-4d5e-b5af-3b7bdeababd3 button.colab-df-convert');\n",
              "      buttonEl.style.display =\n",
              "        google.colab.kernel.accessAllowed ? 'block' : 'none';\n",
              "\n",
              "      async function convertToInteractive(key) {\n",
              "        const element = document.querySelector('#df-7bcd8f79-800f-4d5e-b5af-3b7bdeababd3');\n",
              "        const dataTable =\n",
              "          await google.colab.kernel.invokeFunction('convertToInteractive',\n",
              "                                                    [key], {});\n",
              "        if (!dataTable) return;\n",
              "\n",
              "        const docLinkHtml = 'Like what you see? Visit the ' +\n",
              "          '<a target=\"_blank\" href=https://colab.research.google.com/notebooks/data_table.ipynb>data table notebook</a>'\n",
              "          + ' to learn more about interactive tables.';\n",
              "        element.innerHTML = '';\n",
              "        dataTable['output_type'] = 'display_data';\n",
              "        await google.colab.output.renderOutput(dataTable, element);\n",
              "        const docLink = document.createElement('div');\n",
              "        docLink.innerHTML = docLinkHtml;\n",
              "        element.appendChild(docLink);\n",
              "      }\n",
              "    </script>\n",
              "  </div>\n",
              "\n",
              "\n",
              "<div id=\"df-ac212e5b-d08c-4339-9ecb-b333ff7b9d63\">\n",
              "  <button class=\"colab-df-quickchart\" onclick=\"quickchart('df-ac212e5b-d08c-4339-9ecb-b333ff7b9d63')\"\n",
              "            title=\"Suggest charts\"\n",
              "            style=\"display:none;\">\n",
              "\n",
              "<svg xmlns=\"http://www.w3.org/2000/svg\" height=\"24px\"viewBox=\"0 0 24 24\"\n",
              "     width=\"24px\">\n",
              "    <g>\n",
              "        <path d=\"M19 3H5c-1.1 0-2 .9-2 2v14c0 1.1.9 2 2 2h14c1.1 0 2-.9 2-2V5c0-1.1-.9-2-2-2zM9 17H7v-7h2v7zm4 0h-2V7h2v10zm4 0h-2v-4h2v4z\"/>\n",
              "    </g>\n",
              "</svg>\n",
              "  </button>\n",
              "\n",
              "<style>\n",
              "  .colab-df-quickchart {\n",
              "      --bg-color: #E8F0FE;\n",
              "      --fill-color: #1967D2;\n",
              "      --hover-bg-color: #E2EBFA;\n",
              "      --hover-fill-color: #174EA6;\n",
              "      --disabled-fill-color: #AAA;\n",
              "      --disabled-bg-color: #DDD;\n",
              "  }\n",
              "\n",
              "  [theme=dark] .colab-df-quickchart {\n",
              "      --bg-color: #3B4455;\n",
              "      --fill-color: #D2E3FC;\n",
              "      --hover-bg-color: #434B5C;\n",
              "      --hover-fill-color: #FFFFFF;\n",
              "      --disabled-bg-color: #3B4455;\n",
              "      --disabled-fill-color: #666;\n",
              "  }\n",
              "\n",
              "  .colab-df-quickchart {\n",
              "    background-color: var(--bg-color);\n",
              "    border: none;\n",
              "    border-radius: 50%;\n",
              "    cursor: pointer;\n",
              "    display: none;\n",
              "    fill: var(--fill-color);\n",
              "    height: 32px;\n",
              "    padding: 0;\n",
              "    width: 32px;\n",
              "  }\n",
              "\n",
              "  .colab-df-quickchart:hover {\n",
              "    background-color: var(--hover-bg-color);\n",
              "    box-shadow: 0 1px 2px rgba(60, 64, 67, 0.3), 0 1px 3px 1px rgba(60, 64, 67, 0.15);\n",
              "    fill: var(--button-hover-fill-color);\n",
              "  }\n",
              "\n",
              "  .colab-df-quickchart-complete:disabled,\n",
              "  .colab-df-quickchart-complete:disabled:hover {\n",
              "    background-color: var(--disabled-bg-color);\n",
              "    fill: var(--disabled-fill-color);\n",
              "    box-shadow: none;\n",
              "  }\n",
              "\n",
              "  .colab-df-spinner {\n",
              "    border: 2px solid var(--fill-color);\n",
              "    border-color: transparent;\n",
              "    border-bottom-color: var(--fill-color);\n",
              "    animation:\n",
              "      spin 1s steps(1) infinite;\n",
              "  }\n",
              "\n",
              "  @keyframes spin {\n",
              "    0% {\n",
              "      border-color: transparent;\n",
              "      border-bottom-color: var(--fill-color);\n",
              "      border-left-color: var(--fill-color);\n",
              "    }\n",
              "    20% {\n",
              "      border-color: transparent;\n",
              "      border-left-color: var(--fill-color);\n",
              "      border-top-color: var(--fill-color);\n",
              "    }\n",
              "    30% {\n",
              "      border-color: transparent;\n",
              "      border-left-color: var(--fill-color);\n",
              "      border-top-color: var(--fill-color);\n",
              "      border-right-color: var(--fill-color);\n",
              "    }\n",
              "    40% {\n",
              "      border-color: transparent;\n",
              "      border-right-color: var(--fill-color);\n",
              "      border-top-color: var(--fill-color);\n",
              "    }\n",
              "    60% {\n",
              "      border-color: transparent;\n",
              "      border-right-color: var(--fill-color);\n",
              "    }\n",
              "    80% {\n",
              "      border-color: transparent;\n",
              "      border-right-color: var(--fill-color);\n",
              "      border-bottom-color: var(--fill-color);\n",
              "    }\n",
              "    90% {\n",
              "      border-color: transparent;\n",
              "      border-bottom-color: var(--fill-color);\n",
              "    }\n",
              "  }\n",
              "</style>\n",
              "\n",
              "  <script>\n",
              "    async function quickchart(key) {\n",
              "      const quickchartButtonEl =\n",
              "        document.querySelector('#' + key + ' button');\n",
              "      quickchartButtonEl.disabled = true;  // To prevent multiple clicks.\n",
              "      quickchartButtonEl.classList.add('colab-df-spinner');\n",
              "      try {\n",
              "        const charts = await google.colab.kernel.invokeFunction(\n",
              "            'suggestCharts', [key], {});\n",
              "      } catch (error) {\n",
              "        console.error('Error during call to suggestCharts:', error);\n",
              "      }\n",
              "      quickchartButtonEl.classList.remove('colab-df-spinner');\n",
              "      quickchartButtonEl.classList.add('colab-df-quickchart-complete');\n",
              "    }\n",
              "    (() => {\n",
              "      let quickchartButtonEl =\n",
              "        document.querySelector('#df-ac212e5b-d08c-4339-9ecb-b333ff7b9d63 button');\n",
              "      quickchartButtonEl.style.display =\n",
              "        google.colab.kernel.accessAllowed ? 'block' : 'none';\n",
              "    })();\n",
              "  </script>\n",
              "</div>\n",
              "\n",
              "    </div>\n",
              "  </div>\n"
            ],
            "application/vnd.google.colaboratory.intrinsic+json": {
              "type": "dataframe",
              "variable_name": "df_minmax",
              "summary": "{\n  \"name\": \"df_minmax\",\n  \"rows\": 156,\n  \"fields\": [\n    {\n      \"column\": \"Cultura\",\n      \"properties\": {\n        \"dtype\": \"number\",\n        \"std\": 0.37387825055298357,\n        \"min\": 0.0,\n        \"max\": 1.0,\n        \"num_unique_values\": 4,\n        \"samples\": [\n          0.3333333333333333,\n          1.0,\n          0.0\n        ],\n        \"semantic_type\": \"\",\n        \"description\": \"\"\n      }\n    },\n    {\n      \"column\": \"Precipita\\u00e7\\u00e3o (mm/dia)\",\n      \"properties\": {\n        \"dtype\": \"number\",\n        \"std\": 0.25144671461681783,\n        \"min\": 0.0,\n        \"max\": 1.0,\n        \"num_unique_values\": 39,\n        \"samples\": [\n          0.5819904966251728,\n          0.8971654924989361,\n          0.35624625381133956\n        ],\n        \"semantic_type\": \"\",\n        \"description\": \"\"\n      }\n    },\n    {\n      \"column\": \"Umidade Espec\\u00edfica (g/kg)\",\n      \"properties\": {\n        \"dtype\": \"number\",\n        \"std\": 0.2533815175157101,\n        \"min\": 0.0,\n        \"max\": 1.0,\n        \"num_unique_values\": 33,\n        \"samples\": [\n          0.8275862068965516,\n          0.568965517241379,\n          0.6896551724137936\n        ],\n        \"semantic_type\": \"\",\n        \"description\": \"\"\n      }\n    },\n    {\n      \"column\": \"Umidade Relativa (%)\",\n      \"properties\": {\n        \"dtype\": \"number\",\n        \"std\": 0.24968078416904302,\n        \"min\": 0.0,\n        \"max\": 1.0,\n        \"num_unique_values\": 38,\n        \"samples\": [\n          0.38596491228070207,\n          0.6867167919799471,\n          0.5037593984962427\n        ],\n        \"semantic_type\": \"\",\n        \"description\": \"\"\n      }\n    },\n    {\n      \"column\": \"Temperatura (\\u00b0C)\",\n      \"properties\": {\n        \"dtype\": \"number\",\n        \"std\": 0.23783150361559385,\n        \"min\": 0.0,\n        \"max\": 1.0,\n        \"num_unique_values\": 25,\n        \"samples\": [\n          0.4657534246575352,\n          0.36986301369863384,\n          0.3424657534246549\n        ],\n        \"semantic_type\": \"\",\n        \"description\": \"\"\n      }\n    }\n  ]\n}"
            }
          },
          "metadata": {},
          "execution_count": 15
        }
      ],
      "source": [
        "# Aplicando MinMaxScaler\n",
        "scaler_minmax = MinMaxScaler()\n",
        "X_minmax_scaled = scaler_minmax.fit_transform(X)\n",
        "\n",
        "# Salvando os nomes das colunas par exibição\n",
        "colunas = [\"Cultura\", \"Precipitação (mm/dia)\", \"Umidade Específica (g/kg)\", \"Umidade Relativa (%)\", \"Temperatura (°C)\"]\n",
        "\n",
        "# Mostrando as primeiras linhas dos dados escalados\n",
        "df_minmax = pd.DataFrame(X_minmax_scaled,  columns = colunas)\n",
        "df_minmax.head()"
      ]
    },
    {
      "cell_type": "code",
      "execution_count": 16,
      "metadata": {
        "id": "5z6-c4Qwvm9K"
      },
      "outputs": [],
      "source": [
        "# Atualizando os valores para o eixo X após MinMaxScaler\n",
        "X = df_minmax"
      ]
    },
    {
      "cell_type": "code",
      "execution_count": 17,
      "metadata": {
        "colab": {
          "base_uri": "https://localhost:8080/",
          "height": 569
        },
        "id": "OLNmcFOmvm2Z",
        "outputId": "8e5a3f05-9bcc-4ca0-936f-4f7ae6201c35"
      },
      "outputs": [
        {
          "output_type": "stream",
          "name": "stdout",
          "text": [
            "Tamanho do conjunto de dados original: (156, 5)\n",
            "Tamanho do conjunto de treinamento: (109, 5)\n",
            "Tamanho do conjunto de teste: (47, 5)\n",
            "\n",
            "Conjunto de dados antes do split:\n"
          ]
        },
        {
          "output_type": "display_data",
          "data": {
            "text/plain": [
              "0    11560.0\n",
              "1    11253.0\n",
              "2     9456.0\n",
              "3     9321.0\n",
              "4     8800.0\n",
              "Name: Rendimento (kg/ha), dtype: float64"
            ],
            "text/html": [
              "<div>\n",
              "<style scoped>\n",
              "    .dataframe tbody tr th:only-of-type {\n",
              "        vertical-align: middle;\n",
              "    }\n",
              "\n",
              "    .dataframe tbody tr th {\n",
              "        vertical-align: top;\n",
              "    }\n",
              "\n",
              "    .dataframe thead th {\n",
              "        text-align: right;\n",
              "    }\n",
              "</style>\n",
              "<table border=\"1\" class=\"dataframe\">\n",
              "  <thead>\n",
              "    <tr style=\"text-align: right;\">\n",
              "      <th></th>\n",
              "      <th>Rendimento (kg/ha)</th>\n",
              "    </tr>\n",
              "  </thead>\n",
              "  <tbody>\n",
              "    <tr>\n",
              "      <th>0</th>\n",
              "      <td>11560.0</td>\n",
              "    </tr>\n",
              "    <tr>\n",
              "      <th>1</th>\n",
              "      <td>11253.0</td>\n",
              "    </tr>\n",
              "    <tr>\n",
              "      <th>2</th>\n",
              "      <td>9456.0</td>\n",
              "    </tr>\n",
              "    <tr>\n",
              "      <th>3</th>\n",
              "      <td>9321.0</td>\n",
              "    </tr>\n",
              "    <tr>\n",
              "      <th>4</th>\n",
              "      <td>8800.0</td>\n",
              "    </tr>\n",
              "  </tbody>\n",
              "</table>\n",
              "</div><br><label><b>dtype:</b> float64</label>"
            ]
          },
          "metadata": {}
        },
        {
          "output_type": "stream",
          "name": "stdout",
          "text": [
            "Conjunto de treinamento:\n"
          ]
        },
        {
          "output_type": "display_data",
          "data": {
            "text/plain": [
              "34     11108.0\n",
              "135     5249.0\n",
              "133     6008.0\n",
              "88     28178.0\n",
              "89     29918.0\n",
              "Name: Rendimento (kg/ha), dtype: float64"
            ],
            "text/html": [
              "<div>\n",
              "<style scoped>\n",
              "    .dataframe tbody tr th:only-of-type {\n",
              "        vertical-align: middle;\n",
              "    }\n",
              "\n",
              "    .dataframe tbody tr th {\n",
              "        vertical-align: top;\n",
              "    }\n",
              "\n",
              "    .dataframe thead th {\n",
              "        text-align: right;\n",
              "    }\n",
              "</style>\n",
              "<table border=\"1\" class=\"dataframe\">\n",
              "  <thead>\n",
              "    <tr style=\"text-align: right;\">\n",
              "      <th></th>\n",
              "      <th>Rendimento (kg/ha)</th>\n",
              "    </tr>\n",
              "  </thead>\n",
              "  <tbody>\n",
              "    <tr>\n",
              "      <th>34</th>\n",
              "      <td>11108.0</td>\n",
              "    </tr>\n",
              "    <tr>\n",
              "      <th>135</th>\n",
              "      <td>5249.0</td>\n",
              "    </tr>\n",
              "    <tr>\n",
              "      <th>133</th>\n",
              "      <td>6008.0</td>\n",
              "    </tr>\n",
              "    <tr>\n",
              "      <th>88</th>\n",
              "      <td>28178.0</td>\n",
              "    </tr>\n",
              "    <tr>\n",
              "      <th>89</th>\n",
              "      <td>29918.0</td>\n",
              "    </tr>\n",
              "  </tbody>\n",
              "</table>\n",
              "</div><br><label><b>dtype:</b> float64</label>"
            ]
          },
          "metadata": {}
        }
      ],
      "source": [
        "# Dividindo os dados em conjuntos de treino e teste (70% treino, 30% teste)\n",
        "x_train, x_test, y_train, y_test = train_test_split(X, Y, test_size=0.3, random_state=65)\n",
        "\n",
        "# Conjuntos de dados\n",
        "print(f'Tamanho do conjunto de dados original: {X.shape}')\n",
        "print(f'Tamanho do conjunto de treinamento: {x_train.shape}')\n",
        "print(f'Tamanho do conjunto de teste: {x_test.shape}')\n",
        "\n",
        "# Exibir as primeiras linhas do conjunto antes e depois do split\n",
        "print(\"\\nConjunto de dados antes do split:\")\n",
        "display(df[\"Rendimento (kg/ha)\"].head())\n",
        "print(\"Conjunto de treinamento:\")\n",
        "display(y_train.head())"
      ]
    },
    {
      "cell_type": "markdown",
      "metadata": {
        "id": "X-52PEoX_dOw"
      },
      "source": [
        "## **↪ Construção dos modelos preditivos**"
      ]
    },
    {
      "cell_type": "code",
      "execution_count": 18,
      "metadata": {
        "id": "42j7ukbZEh4b"
      },
      "outputs": [],
      "source": [
        "# Gera dicionário para armazenar as acurácias de cada modelo e posteriormente rankear\n",
        "modelos = {}"
      ]
    },
    {
      "cell_type": "code",
      "execution_count": 19,
      "metadata": {
        "colab": {
          "base_uri": "https://localhost:8080/"
        },
        "id": "WLxRNS0j_ZXP",
        "outputId": "7eb73245-9c7e-4775-c80c-e0fc40e64417"
      },
      "outputs": [
        {
          "output_type": "stream",
          "name": "stdout",
          "text": [
            "Acurácia Regressão Logística: -0.023581405668999356\n",
            "6473.011845892213\n"
          ]
        }
      ],
      "source": [
        "# Regressão Linear\n",
        "\n",
        "logreg = LinearRegression()\n",
        "logreg.fit(x_train, y_train)\n",
        "y_pred_logreg = logreg.predict(x_test)\n",
        "\n",
        "# Resultados\n",
        "ScoreRL = r2_score(y_test, y_pred_logreg)\n",
        "print(\"Acurácia Regressão Logística:\", ScoreRL)\n",
        "print(mean_absolute_error(y_test, y_pred_logreg))\n",
        "\n",
        "# Armazena valor\n",
        "modelos ['Regressão Logística'] = ScoreRL"
      ]
    },
    {
      "cell_type": "code",
      "execution_count": 20,
      "metadata": {
        "colab": {
          "base_uri": "https://localhost:8080/"
        },
        "id": "bTSXRbP9_pTP",
        "outputId": "7fc8c027-dc26-4f2d-9002-7f958a77417a"
      },
      "outputs": [
        {
          "output_type": "stream",
          "name": "stdout",
          "text": [
            "Acurácia KNN: 0.5496877530713207\n",
            "4036.4938829787225\n"
          ]
        }
      ],
      "source": [
        "# KNN - 10 vizinhos\n",
        "\n",
        "knn = KNeighborsRegressor(n_neighbors=10)\n",
        "knn.fit(x_train, y_train)\n",
        "y_pred_knn = knn.predict(x_test)\n",
        "\n",
        "# Resultados\n",
        "ScoreKNN = r2_score(y_test, y_pred_knn)\n",
        "print(\"Acurácia KNN:\", ScoreKNN)\n",
        "print(mean_absolute_error(y_test, y_pred_knn))\n",
        "\n",
        "# Armazena valor\n",
        "modelos ['KNN'] = ScoreKNN"
      ]
    },
    {
      "cell_type": "code",
      "execution_count": 21,
      "metadata": {
        "colab": {
          "base_uri": "https://localhost:8080/"
        },
        "id": "Npy3BATW_zGl",
        "outputId": "508792ee-0b38-4cb8-cdac-ba5da09980d4"
      },
      "outputs": [
        {
          "output_type": "stream",
          "name": "stdout",
          "text": [
            "Acurácia SVM (RBF): -0.0016736526732521462\n",
            "6101.141988803411\n"
          ]
        }
      ],
      "source": [
        "# SVM com kernel RBF -> mais complexo\n",
        "svm_rbf = SVR(kernel='rbf')\n",
        "svm_rbf.fit(x_train, y_train)\n",
        "y_pred_svm_rbf = svm_rbf.predict(x_test)\n",
        "\n",
        "# Resultados\n",
        "ScoreSVM_RBF = r2_score(y_test, y_pred_svm_rbf)\n",
        "print(\"Acurácia SVM (RBF):\", ScoreSVM_RBF)\n",
        "print(mean_absolute_error(y_test, y_pred_svm_rbf))\n",
        "\n",
        "# Armazena valor\n",
        "modelos ['SVM (RBF)'] = ScoreSVM_RBF"
      ]
    },
    {
      "cell_type": "code",
      "execution_count": 22,
      "metadata": {
        "colab": {
          "base_uri": "https://localhost:8080/"
        },
        "id": "yaEWFVXK_z4Y",
        "outputId": "e90f0658-c3d4-4144-edca-797bbc98c7bc"
      },
      "outputs": [
        {
          "output_type": "stream",
          "name": "stdout",
          "text": [
            "Acurácia SVM (Polinomial): 0.01843871361959104\n",
            "6079.2543147361885\n"
          ]
        }
      ],
      "source": [
        "# SVM com kernel polinomial -> intermediário\n",
        "svm_poly = SVR(kernel='poly')\n",
        "svm_poly.fit(x_train, y_train)\n",
        "y_pred_svm_poly = svm_poly.predict(x_test)\n",
        "\n",
        "# Resultados\n",
        "ScoreSVM_P = r2_score(y_test, y_pred_svm_poly)\n",
        "print(\"Acurácia SVM (Polinomial):\", ScoreSVM_P )\n",
        "print(mean_absolute_error(y_test, y_pred_svm_poly))\n",
        "\n",
        "# Armazena valor\n",
        "modelos ['SVM (Polinomial)'] = ScoreSVM_P"
      ]
    },
    {
      "cell_type": "code",
      "execution_count": 23,
      "metadata": {
        "colab": {
          "base_uri": "https://localhost:8080/"
        },
        "id": "DPGOsPll_z8K",
        "outputId": "815f3a02-959e-4e16-cc5e-5fbd72c83e51"
      },
      "outputs": [
        {
          "output_type": "stream",
          "name": "stdout",
          "text": [
            "Acurácia SVM (Linear): -0.0024202442466931817\n",
            "6104.681585163392\n"
          ]
        }
      ],
      "source": [
        "# SVM com kernel linear -> o mais simples\n",
        "svm_linear = SVR(kernel='linear')\n",
        "svm_linear.fit(x_train, y_train)\n",
        "y_pred_svm_linear = svm_linear.predict(x_test)\n",
        "\n",
        "# Resultados\n",
        "ScoreSVM_L = r2_score(y_test, y_pred_svm_linear)\n",
        "print(\"Acurácia SVM (Linear):\", ScoreSVM_L)\n",
        "print(mean_absolute_error(y_test, y_pred_svm_linear))\n",
        "\n",
        "# Armazena valor\n",
        "modelos ['SVM (Linear)'] = ScoreSVM_L"
      ]
    },
    {
      "cell_type": "code",
      "execution_count": 24,
      "metadata": {
        "colab": {
          "base_uri": "https://localhost:8080/"
        },
        "id": "Rp3DlTrvEJjj",
        "outputId": "93d55f13-b198-4dbe-eeca-3425040bf71a"
      },
      "outputs": [
        {
          "output_type": "stream",
          "name": "stdout",
          "text": [
            "Acurácia Decision Tree: 0.6417659976231529\n",
            "2159.127659574468\n"
          ]
        }
      ],
      "source": [
        "# Decision Tree\n",
        "dt = DecisionTreeRegressor()\n",
        "dt.fit(x_train, y_train)\n",
        "y_pred_dt = dt.predict(x_test)\n",
        "\n",
        "# Resultados\n",
        "ScoreDT = r2_score(y_test, y_pred_dt)\n",
        "print(\"Acurácia Decision Tree:\", ScoreDT)\n",
        "print(mean_absolute_error(y_test, y_pred_dt))\n",
        "\n",
        "# Armazena valor\n",
        "modelos ['Decision Tree'] = ScoreDT"
      ]
    },
    {
      "cell_type": "code",
      "execution_count": 25,
      "metadata": {
        "colab": {
          "base_uri": "https://localhost:8080/"
        },
        "id": "h57nhldbEKet",
        "outputId": "211f3c82-2dde-44c5-9c91-325d1bea83c6"
      },
      "outputs": [
        {
          "output_type": "stream",
          "name": "stdout",
          "text": [
            "Acurácia Random Forest: 0.711475304387494\n",
            "2254.4978723404256\n"
          ]
        }
      ],
      "source": [
        "# Random Forest\n",
        "rf = RandomForestRegressor(n_estimators=25)\n",
        "rf.fit(x_train, y_train)\n",
        "y_pred_rf = rf.predict(x_test)\n",
        "\n",
        "# Resultados\n",
        "ScoreRFO = r2_score(y_test, y_pred_rf)\n",
        "print(\"Acurácia Random Forest:\", ScoreRFO)\n",
        "print(mean_absolute_error(y_test, y_pred_rf))\n",
        "\n",
        "# Armazena valor\n",
        "modelos ['Random Forest'] = ScoreRFO"
      ]
    },
    {
      "cell_type": "code",
      "execution_count": 26,
      "metadata": {
        "colab": {
          "base_uri": "https://localhost:8080/"
        },
        "id": "3oHMG9fTBYJE",
        "outputId": "f7d1d94f-4405-48c1-db56-6b0b65a35354"
      },
      "outputs": [
        {
          "output_type": "stream",
          "name": "stdout",
          "text": [
            "Ranking dos Mellhores Modelos:\n",
            "\n",
            "1. Random Forest: 0.7115\n",
            "2. Decision Tree: 0.6418\n",
            "3. KNN: 0.5497\n",
            "4. SVM (Polinomial): 0.0184\n",
            "5. SVM (RBF): -0.0017\n",
            "6. SVM (Linear): -0.0024\n",
            "7. Regressão Logística: -0.0236\n"
          ]
        }
      ],
      "source": [
        "# CONCLUSÃO\n",
        "\n",
        "# Gerar o ranking das acurácias\n",
        "ranking = sorted(modelos.items(), key=lambda x: x[1], reverse=True)\n",
        "\n",
        "# Exibir o ranking\n",
        "print(\"Ranking dos Mellhores Modelos:\\n\")\n",
        "for i, (model, accuracy) in enumerate(ranking, 1):\n",
        "    print(f\"{i}. {model}: {accuracy:.4f}\")\n"
      ]
    }
  ],
  "metadata": {
    "colab": {
      "provenance": []
    },
    "kernelspec": {
      "display_name": "Python 3",
      "name": "python3"
    },
    "language_info": {
      "name": "python"
    }
  },
  "nbformat": 4,
  "nbformat_minor": 0
}